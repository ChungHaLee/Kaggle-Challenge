{
 "cells": [
  {
   "cell_type": "markdown",
   "metadata": {},
   "source": [
    "# Kaggle Challenge\n",
    "# #3. X-RAY: Pneumonia Classification by CNN"
   ]
  },
  {
   "cell_type": "markdown",
   "metadata": {},
   "source": [
    "CNN 을 활용해 X-RAY 이미지를 보았을 때 폐렴이 걸렸는지, 아니면 정상 이미지인지 분류하는 실험이다."
   ]
  },
  {
   "cell_type": "markdown",
   "metadata": {},
   "source": [
    "## 1. 필요한 모듈 불러오기"
   ]
  },
  {
   "cell_type": "code",
   "execution_count": 1,
   "metadata": {},
   "outputs": [],
   "source": [
    "import cv2\n",
    "import numpy as np\n",
    "from matplotlib import pyplot as plt\n",
    "import glob\n",
    "from PIL import Image  # Pillow 패키지(이미징 라이브러리)\n",
    "\n",
    "\n",
    "from sklearn.model_selection import train_test_split\n",
    "\n",
    "import tensorflow as tf\n",
    "from tensorflow.keras.models import Sequential\n",
    "from tensorflow.keras import layers"
   ]
  },
  {
   "cell_type": "markdown",
   "metadata": {},
   "source": [
    "## 2. Train"
   ]
  },
  {
   "cell_type": "markdown",
   "metadata": {},
   "source": [
    "### NORMAL DATA"
   ]
  },
  {
   "cell_type": "markdown",
   "metadata": {},
   "source": [
    "정상적인 이미지를 Train DataSet 에서 불러온다."
   ]
  },
  {
   "cell_type": "code",
   "execution_count": 2,
   "metadata": {},
   "outputs": [],
   "source": [
    "train_a_x = []\n",
    "path = '/home/lifeofpy/LifeofPy/Kaggle/#3. X-ray Disease/chest_xray/train/NORMAL/*.jpeg'"
   ]
  },
  {
   "cell_type": "markdown",
   "metadata": {},
   "source": [
    "for 문을 사용해서 하나씩 불러와, 100*100 으로 resize 해주며, train_a_x 리스트에 넣어준다."
   ]
  },
  {
   "cell_type": "code",
   "execution_count": 3,
   "metadata": {},
   "outputs": [],
   "source": [
    "for filename in glob.glob(path):\n",
    "    im = Image.open(filename).convert('L') # convert('L') = RGB 이미지를 Grayscale 로 바꿔준다.\n",
    "    img = im.resize((100, 100))\n",
    "    train_a_x.append(tf.keras.preprocessing.image.img_to_array(img))"
   ]
  },
  {
   "cell_type": "markdown",
   "metadata": {},
   "source": [
    "train_a_x 의 크기만큼 train_a_y 를 만들어주며, train data 의 경우 모두 정상이므로, 모두 0으로 만들어준다."
   ]
  },
  {
   "cell_type": "code",
   "execution_count": 4,
   "metadata": {},
   "outputs": [],
   "source": [
    "ans = len(train_a_x)\n",
    "train_a_y = np.zeros(ans)"
   ]
  },
  {
   "cell_type": "markdown",
   "metadata": {},
   "source": [
    "### PNEUMONIA DATA"
   ]
  },
  {
   "cell_type": "markdown",
   "metadata": {},
   "source": [
    "폐렴에 걸린 이미지를 Train DataSet 에서 불러오고, for 문을 사용해 resize 해 train_a_x 리스트에 넣어준다."
   ]
  },
  {
   "cell_type": "code",
   "execution_count": 5,
   "metadata": {},
   "outputs": [],
   "source": [
    "path = '/home/lifeofpy/LifeofPy/Kaggle/#3. X-ray Disease/chest_xray/train/PNEUMONIA/*.jpeg'\n",
    "\n",
    "for filename in glob.glob(path):\n",
    "    im = Image.open(filename).convert('L')\n",
    "    img = im.resize((100, 100))\n",
    "    train_a_x.append(tf.keras.preprocessing.image.img_to_array(img))"
   ]
  },
  {
   "cell_type": "markdown",
   "metadata": {},
   "source": [
    "새로 이미지를 넣어 생성된 train_a_x 의 길이만큼의 이미지는 모두 폐렴에 걸린 이미지이므로, 모두 1로 만들어준다. 그리고 y와 x에 대한 train 이미지를 업데이트 해준다."
   ]
  },
  {
   "cell_type": "code",
   "execution_count": 12,
   "metadata": {},
   "outputs": [],
   "source": [
    "bns = len(train_a_x)\n",
    "train_b_y = np.concatenate((train_a_y, np.ones(bns-ans))) # 합쳐야 하므로 concatenate 사용"
   ]
  },
  {
   "cell_type": "code",
   "execution_count": 13,
   "metadata": {},
   "outputs": [],
   "source": [
    "train_b_x = np.stack(train_a_x) # 앞에 쌓아야 하므로 stack 함수 사용"
   ]
  },
  {
   "cell_type": "markdown",
   "metadata": {},
   "source": [
    "### Cross Verify"
   ]
  },
  {
   "cell_type": "code",
   "execution_count": 24,
   "metadata": {},
   "outputs": [
    {
     "data": {
      "image/png": "[encoded data removed]",
      "text/plain": [
       "<PIL.Image.Image image mode=L size=100x100 at 0x7F715F0CD7D0>"
      ]
     },
     "execution_count": 24,
     "metadata": {},
     "output_type": "execute_result"
    }
   ],
   "source": [
    "img = tf.keras.preprocessing.image.array_to_img(train_b_x[5000])\n",
    "img"
   ]
  },
  {
   "cell_type": "markdown",
   "metadata": {},
   "source": [
    "## 3. Valid"
   ]
  },
  {
   "cell_type": "markdown",
   "metadata": {},
   "source": [
    "Test 를 해보기 전, 최적의 하이퍼 파라미터를 찾기 위해 Validation Set 에서 정상 이미지를 불러온다."
   ]
  },
  {
   "cell_type": "code",
   "execution_count": 27,
   "metadata": {},
   "outputs": [],
   "source": [
    "val_a_x = []\n",
    "\n",
    "path = '/home/lifeofpy/LifeofPy/Kaggle/#3. X-ray Disease/chest_xray/val/NORMAL/*.jpeg'\n",
    "\n",
    "for filename in glob.glob(path):\n",
    "    im = Image.open(filename).convert('L')\n",
    "    img = im.resize((100, 100))\n",
    "    val_a_x.append(tf.keras.preprocessing.image.img_to_array(img))"
   ]
  },
  {
   "cell_type": "markdown",
   "metadata": {},
   "source": [
    "정상 이미지의 라벨링을 0으로 맞춰준다."
   ]
  },
  {
   "cell_type": "code",
   "execution_count": 28,
   "metadata": {},
   "outputs": [],
   "source": [
    "a = len(val_a_x)\n",
    "val_a_y = np.zeros(a)"
   ]
  },
  {
   "cell_type": "markdown",
   "metadata": {},
   "source": [
    "Validation Set 에서 폐렴에 걸린 이미지를 불러온다."
   ]
  },
  {
   "cell_type": "code",
   "execution_count": 29,
   "metadata": {},
   "outputs": [],
   "source": [
    "path = '/home/lifeofpy/LifeofPy/Kaggle/#3. X-ray Disease/chest_xray/val/PNEUMONIA/*jpeg'\n",
    "\n",
    "for filename in glob.glob(path):\n",
    "    im = Image.open(filename).convert('L')\n",
    "    img = im.resize((100, 100))\n",
    "    val_a_x.append(tf.keras.preprocessing.image.img_to_array(img))"
   ]
  },
  {
   "cell_type": "markdown",
   "metadata": {},
   "source": [
    "폐렴에 걸린 이미지의 라벨링을 1으로 맞춰준다."
   ]
  },
  {
   "cell_type": "code",
   "execution_count": 31,
   "metadata": {},
   "outputs": [],
   "source": [
    "b = len(val_a_x)\n",
    "val_b_y = np.concatenate((val_a_y, np.ones(b-a)))\n",
    "val_b_x = np.stack(val_a_x)"
   ]
  },
  {
   "cell_type": "markdown",
   "metadata": {},
   "source": [
    "## 4. Test"
   ]
  },
  {
   "cell_type": "markdown",
   "metadata": {},
   "source": [
    "Test 를 하기 위해, Test Set 에서 정상 이미지를 불러온다."
   ]
  },
  {
   "cell_type": "code",
   "execution_count": 40,
   "metadata": {},
   "outputs": [],
   "source": [
    "test_a_x = []\n",
    "\n",
    "path = '/home/lifeofpy/LifeofPy/Kaggle/#3. X-ray Disease/chest_xray/test/NORMAL/*.jpeg'\n",
    "\n",
    "for filename in glob.glob(path):\n",
    "    im = Image.open(filename).convert('L')\n",
    "    img = im.resize((100, 100))\n",
    "    test_a_x.append(tf.keras.preprocessing.image.img_to_array(img))"
   ]
  },
  {
   "cell_type": "markdown",
   "metadata": {},
   "source": [
    "정상 이미지의 라벨링을 0으로 맞춰준다."
   ]
  },
  {
   "cell_type": "code",
   "execution_count": 41,
   "metadata": {},
   "outputs": [],
   "source": [
    "a = len(test_a_x)\n",
    "test_a_y = np.zeros(a)"
   ]
  },
  {
   "cell_type": "markdown",
   "metadata": {},
   "source": [
    "Test Set 에서 폐렴에 걸린 이미지를 불러온다."
   ]
  },
  {
   "cell_type": "code",
   "execution_count": 42,
   "metadata": {},
   "outputs": [],
   "source": [
    "path = '/home/lifeofpy/LifeofPy/Kaggle/#3. X-ray Disease/chest_xray/test/PNEUMONIA/*jpeg'\n",
    "\n",
    "for filename in glob.glob(path):\n",
    "    im = Image.open(filename).convert('L')\n",
    "    img = im.resize((100, 100))\n",
    "    test_a_x.append(tf.keras.preprocessing.image.img_to_array(img))"
   ]
  },
  {
   "cell_type": "markdown",
   "metadata": {},
   "source": [
    "폐렴에 걸린 이미지의 라벨링을 1으로 맞춰준다."
   ]
  },
  {
   "cell_type": "code",
   "execution_count": 43,
   "metadata": {},
   "outputs": [],
   "source": [
    "b = len(test_a_x)\n",
    "test_b_y = np.concatenate((test_a_y, np.ones(b-a)))\n",
    "test_b_x = np.stack(test_a_x)"
   ]
  },
  {
   "cell_type": "markdown",
   "metadata": {},
   "source": [
    "#### 이제 각각의 data set 에 대한 크기를 출력해보자."
   ]
  },
  {
   "cell_type": "code",
   "execution_count": 44,
   "metadata": {},
   "outputs": [
    {
     "name": "stdout",
     "output_type": "stream",
     "text": [
      "train shape :  (5216, 100, 100, 1)\n",
      "valid shape :  (8, 100, 100, 1)\n",
      "test shape :  (624, 100, 100, 1)\n"
     ]
    }
   ],
   "source": [
    "print('train shape : ',train_b_x.shape)\n",
    "print('valid shape : ',val_b_x.shape)\n",
    "print('test shape : ',test_b_x.shape)"
   ]
  },
  {
   "cell_type": "markdown",
   "metadata": {},
   "source": [
    "Validation Set 이 월등히 작으므로, train_test_split 을 이용해 validation set 을 보강한다."
   ]
  },
  {
   "cell_type": "code",
   "execution_count": 45,
   "metadata": {},
   "outputs": [],
   "source": [
    "tx, vx, ty, vy = train_test_split(train_b_x, train_b_y)"
   ]
  },
  {
   "cell_type": "markdown",
   "metadata": {},
   "source": [
    "## 5. Train Model using CNN"
   ]
  },
  {
   "cell_type": "code",
   "execution_count": 50,
   "metadata": {},
   "outputs": [
    {
     "name": "stdout",
     "output_type": "stream",
     "text": [
      "Epoch 1/40\n",
      "14/14 [==============================] - 1s 60ms/step - loss: 12.9414 - accuracy: 0.6002 - val_loss: 0.6364 - val_accuracy: 0.7370\n",
      "Epoch 2/40\n",
      "14/14 [==============================] - 1s 52ms/step - loss: 0.7870 - accuracy: 0.6748 - val_loss: 0.6868 - val_accuracy: 0.7224\n",
      "Epoch 3/40\n",
      "14/14 [==============================] - 1s 53ms/step - loss: 0.5859 - accuracy: 0.7380 - val_loss: 0.6756 - val_accuracy: 0.7431\n",
      "Epoch 4/40\n",
      "14/14 [==============================] - 1s 53ms/step - loss: 0.5492 - accuracy: 0.7505 - val_loss: 0.6475 - val_accuracy: 0.7592\n",
      "Epoch 5/40\n",
      "14/14 [==============================] - 1s 53ms/step - loss: 0.5354 - accuracy: 0.7474 - val_loss: 0.5886 - val_accuracy: 0.7761\n",
      "Epoch 6/40\n",
      "14/14 [==============================] - 1s 53ms/step - loss: 0.4588 - accuracy: 0.7906 - val_loss: 0.5440 - val_accuracy: 0.8175\n",
      "Epoch 7/40\n",
      "14/14 [==============================] - 1s 53ms/step - loss: 0.4195 - accuracy: 0.8149 - val_loss: 0.5255 - val_accuracy: 0.8213\n",
      "Epoch 8/40\n",
      "14/14 [==============================] - 1s 55ms/step - loss: 0.3729 - accuracy: 0.8338 - val_loss: 0.4641 - val_accuracy: 0.8451\n",
      "Epoch 9/40\n",
      "14/14 [==============================] - 1s 53ms/step - loss: 0.3594 - accuracy: 0.8361 - val_loss: 0.4707 - val_accuracy: 0.8252\n",
      "Epoch 10/40\n",
      "14/14 [==============================] - 1s 55ms/step - loss: 0.3319 - accuracy: 0.8461 - val_loss: 0.4521 - val_accuracy: 0.8627\n",
      "Epoch 11/40\n",
      "14/14 [==============================] - 1s 56ms/step - loss: 0.3349 - accuracy: 0.8441 - val_loss: 0.4191 - val_accuracy: 0.8635\n",
      "Epoch 12/40\n",
      "14/14 [==============================] - 1s 56ms/step - loss: 0.3268 - accuracy: 0.8576 - val_loss: 0.3949 - val_accuracy: 0.8673\n",
      "Epoch 13/40\n",
      "14/14 [==============================] - 1s 56ms/step - loss: 0.2962 - accuracy: 0.8724 - val_loss: 0.3957 - val_accuracy: 0.8681\n",
      "Epoch 14/40\n",
      "14/14 [==============================] - 1s 55ms/step - loss: 0.2956 - accuracy: 0.8696 - val_loss: 0.3902 - val_accuracy: 0.8742\n",
      "Epoch 15/40\n",
      "14/14 [==============================] - 1s 54ms/step - loss: 0.2795 - accuracy: 0.8755 - val_loss: 0.3755 - val_accuracy: 0.8773\n",
      "Epoch 16/40\n",
      "14/14 [==============================] - 1s 53ms/step - loss: 0.2889 - accuracy: 0.8773 - val_loss: 0.4128 - val_accuracy: 0.8336\n",
      "Epoch 17/40\n",
      "14/14 [==============================] - 1s 54ms/step - loss: 0.2695 - accuracy: 0.8822 - val_loss: 0.4041 - val_accuracy: 0.8321\n",
      "Epoch 18/40\n",
      "14/14 [==============================] - 1s 53ms/step - loss: 0.2990 - accuracy: 0.8804 - val_loss: 0.3476 - val_accuracy: 0.8781\n",
      "Epoch 19/40\n",
      "14/14 [==============================] - 1s 53ms/step - loss: 0.2698 - accuracy: 0.8834 - val_loss: 0.3952 - val_accuracy: 0.8298\n",
      "Epoch 20/40\n",
      "14/14 [==============================] - 1s 53ms/step - loss: 0.2544 - accuracy: 0.8942 - val_loss: 0.2675 - val_accuracy: 0.8926\n",
      "Epoch 21/40\n",
      "14/14 [==============================] - 1s 54ms/step - loss: 0.2759 - accuracy: 0.8811 - val_loss: 0.3517 - val_accuracy: 0.8750\n",
      "Epoch 22/40\n",
      "14/14 [==============================] - 1s 53ms/step - loss: 0.2602 - accuracy: 0.8875 - val_loss: 0.3339 - val_accuracy: 0.8727\n",
      "Epoch 23/40\n",
      "14/14 [==============================] - 1s 54ms/step - loss: 0.2498 - accuracy: 0.8962 - val_loss: 0.2996 - val_accuracy: 0.8819\n",
      "Epoch 24/40\n",
      "14/14 [==============================] - 1s 54ms/step - loss: 0.2397 - accuracy: 0.8957 - val_loss: 0.3034 - val_accuracy: 0.8888\n",
      "Epoch 25/40\n",
      "14/14 [==============================] - 1s 54ms/step - loss: 0.2419 - accuracy: 0.8921 - val_loss: 0.2878 - val_accuracy: 0.8896\n",
      "Epoch 26/40\n",
      "14/14 [==============================] - 1s 54ms/step - loss: 0.2206 - accuracy: 0.9070 - val_loss: 0.2720 - val_accuracy: 0.8949\n",
      "Epoch 27/40\n",
      "14/14 [==============================] - 1s 54ms/step - loss: 0.2314 - accuracy: 0.8990 - val_loss: 0.3686 - val_accuracy: 0.8551\n",
      "Epoch 28/40\n",
      "14/14 [==============================] - 1s 54ms/step - loss: 0.2220 - accuracy: 0.9029 - val_loss: 0.2770 - val_accuracy: 0.9034\n",
      "Epoch 29/40\n",
      "14/14 [==============================] - 1s 54ms/step - loss: 0.2029 - accuracy: 0.9121 - val_loss: 0.2287 - val_accuracy: 0.9149\n",
      "Epoch 30/40\n",
      "14/14 [==============================] - 1s 57ms/step - loss: 0.2433 - accuracy: 0.9070 - val_loss: 0.2137 - val_accuracy: 0.9126\n",
      "Epoch 31/40\n",
      "14/14 [==============================] - 1s 56ms/step - loss: 0.2607 - accuracy: 0.8819 - val_loss: 0.3708 - val_accuracy: 0.8528\n",
      "Epoch 32/40\n",
      "14/14 [==============================] - 1s 56ms/step - loss: 0.2318 - accuracy: 0.9024 - val_loss: 0.2372 - val_accuracy: 0.8988\n",
      "Epoch 33/40\n",
      "14/14 [==============================] - 1s 53ms/step - loss: 0.2320 - accuracy: 0.9016 - val_loss: 0.3212 - val_accuracy: 0.8827\n",
      "Epoch 34/40\n",
      "14/14 [==============================] - 1s 53ms/step - loss: 0.2232 - accuracy: 0.9103 - val_loss: 0.2171 - val_accuracy: 0.9103\n"
     ]
    }
   ],
   "source": [
    "tf.random.set_seed(1234)\n",
    "es = tf.keras.callbacks.EarlyStopping(monitor='loss', patience=5) # 과적합 방지\n",
    "\n",
    "model = tf.keras.Sequential(\n",
    "[\n",
    "    layers.Conv2D(filters=60, kernel_size=(3, 3), activation='relu', padding='same'),\n",
    "    layers.MaxPooling2D(pool_size = (4, 4)),\n",
    "    layers.Dropout(0.25),\n",
    "    \n",
    "    layers.Conv2D(40, (3, 3), activation='relu'),\n",
    "    layers.MaxPooling2D(pool_size = (8, 8)),\n",
    "    layers.Dropout(0.2),\n",
    "    \n",
    "    layers.Flatten(),\n",
    "    layers.Dense(512, activation = 'relu'),\n",
    "    layers.Dense(128, activation = 'relu'),\n",
    "    layers.Dense(1, activation='sigmoid')\n",
    "])\n",
    "\n",
    "model.compile(loss='BinaryCrossentropy', optimizer='adam', metrics=['accuracy'])\n",
    "mod = model.fit(tx, ty, validation_data = (vx, vy), batch_size=300, epochs=40, callbacks=[es])"
   ]
  },
  {
   "cell_type": "markdown",
   "metadata": {},
   "source": [
    "## 6. Visualize the Result"
   ]
  },
  {
   "cell_type": "code",
   "execution_count": 51,
   "metadata": {},
   "outputs": [
    {
     "data": {
      "image/png": "[encoded data removed]",
      "text/plain": [
       "<Figure size 2160x720 with 2 Axes>"
      ]
     },
     "metadata": {
      "needs_background": "light"
     },
     "output_type": "display_data"
    }
   ],
   "source": [
    "fig = plt.subplots(figsize=(30, 10))\n",
    "\n",
    "plt.subplot(1, 2, 1)\n",
    "plt.plot(mod.history['accuracy'])\n",
    "plt.plot(mod.history['val_accuracy'])\n",
    "plt.title('Accuracy')\n",
    "plt.xlabel('Epoch')\n",
    "plt.ylabel('Accuracy')\n",
    "plt.legend(['Training Accuracy', 'Validation Accuracy'])\n",
    "\n",
    "plt.subplot(1, 2, 2)\n",
    "plt.plot(mod.history['loss'])\n",
    "plt.plot(mod.history['val_loss'])\n",
    "plt.title('Loss')\n",
    "plt.xlabel('Epoch')\n",
    "plt.ylabel('Loss')\n",
    "plt.legend(['Training Loss','Validation Loss'])\n",
    "\n",
    "plt.show()"
   ]
  },
  {
   "cell_type": "markdown",
   "metadata": {},
   "source": [
    "## 7. Predict by Test Data"
   ]
  },
  {
   "cell_type": "markdown",
   "metadata": {},
   "source": [
    "pred = model.predict(test_b_x)"
   ]
  },
  {
   "cell_type": "markdown",
   "metadata": {},
   "source": [
    "## 8. Confusion Matrix"
   ]
  },
  {
   "cell_type": "markdown",
   "metadata": {},
   "source": [
    "머신러닝에서 모델이나 패턴의 분류 성능 평가에는 Precision, Recall, Accuracy 와 같은 척도가 활용된다. 이를 위해서는 2*2의 confusion matrix 를 만들어야 한다."
   ]
  },
  {
   "cell_type": "code",
   "execution_count": 53,
   "metadata": {},
   "outputs": [
    {
     "data": {
      "text/plain": [
       "<tf.Tensor: shape=(2, 2), dtype=int32, numpy=\n",
       "array([[148,  86],\n",
       "       [ 23, 367]], dtype=int32)>"
      ]
     },
     "execution_count": 53,
     "metadata": {},
     "output_type": "execute_result"
    }
   ],
   "source": [
    "for i in range(len(pred)):\n",
    "    if pred[i] > 0.5:\n",
    "        pred[i] = 1\n",
    "    else:\n",
    "        pred[i] = 0\n",
    "        \n",
    "tf.math.confusion_matrix(test_b_y, pred)"
   ]
  },
  {
   "cell_type": "markdown",
   "metadata": {},
   "source": [
    "☞ TP = 367 / FP = 86 / FN = 23 / TN = 148"
   ]
  },
  {
   "cell_type": "markdown",
   "metadata": {},
   "source": [
    "## 9. Evaluation Metrics"
   ]
  },
  {
   "cell_type": "markdown",
   "metadata": {},
   "source": [
    "모델 성능의 평가 지표로, Precision, Recall, Accuracy 를 모두 출력해보았다."
   ]
  },
  {
   "cell_type": "markdown",
   "metadata": {},
   "source": [
    "### 1) Precision [정밀도]"
   ]
  },
  {
   "attachments": {
    "image.png": {
     "image/png": "[encoded data removed]"
    }
   },
   "cell_type": "markdown",
   "metadata": {},
   "source": [
    "![image.png](attachment:image.png)"
   ]
  },
  {
   "cell_type": "code",
   "execution_count": 61,
   "metadata": {},
   "outputs": [
    {
     "data": {
      "text/plain": [
       "0.8101545253863135"
      ]
     },
     "execution_count": 61,
     "metadata": {},
     "output_type": "execute_result"
    }
   ],
   "source": [
    "precision = 367 / (367 + 86)\n",
    "precision"
   ]
  },
  {
   "cell_type": "markdown",
   "metadata": {},
   "source": [
    "### 2) Recall [재현율]"
   ]
  },
  {
   "attachments": {
    "image.png": {
     "image/png": "[encoded data removed]"
    }
   },
   "cell_type": "markdown",
   "metadata": {},
   "source": [
    "![image.png](attachment:image.png)"
   ]
  },
  {
   "cell_type": "code",
   "execution_count": 62,
   "metadata": {},
   "outputs": [
    {
     "data": {
      "text/plain": [
       "0.941025641025641"
      ]
     },
     "execution_count": 62,
     "metadata": {},
     "output_type": "execute_result"
    }
   ],
   "source": [
    "recall = 367 / (367 + 23)\n",
    "recall"
   ]
  },
  {
   "cell_type": "markdown",
   "metadata": {},
   "source": [
    "### 3) Accuracy [정확도]"
   ]
  },
  {
   "attachments": {
    "image.png": {
     "image/png": "[encoded data removed]"
    }
   },
   "cell_type": "markdown",
   "metadata": {},
   "source": [
    "![image.png](attachment:image.png)"
   ]
  },
  {
   "cell_type": "code",
   "execution_count": 66,
   "metadata": {},
   "outputs": [
    {
     "data": {
      "text/plain": [
       "0.8253205128205128"
      ]
     },
     "execution_count": 66,
     "metadata": {},
     "output_type": "execute_result"
    }
   ],
   "source": [
    "accuracy = (367 + 148) / (367+86+23+148)\n",
    "accuracy"
   ]
  }
 ],
 "metadata": {
  "kernelspec": {
   "display_name": "Python 3",
   "language": "python",
   "name": "python3"
  },
  "language_info": {
   "codemirror_mode": {
    "name": "ipython",
    "version": 3
   },
   "file_extension": ".py",
   "mimetype": "text/x-python",
   "name": "python",
   "nbconvert_exporter": "python",
   "pygments_lexer": "ipython3",
   "version": "3.7.9"
  }
 },
 "nbformat": 4,
 "nbformat_minor": 2
}
